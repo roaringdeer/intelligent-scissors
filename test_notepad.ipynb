{
 "cells": [
  {
   "cell_type": "markdown",
   "metadata": {},
   "source": [
    "# Inteligentne nożyce\n",
    "## Przygotowanie środowiska"
   ]
  },
  {
   "cell_type": "code",
   "execution_count": 61,
   "metadata": {},
   "outputs": [],
   "source": [
    "from pathlib import Path\n",
    "import cv2, timeit, json, numpy as np\n",
    "from src.pathfinder import Pathfinder\n",
    "from src.utilities import eval_path\n",
    "import matplotlib.pyplot as plt\n",
    "from collections import Counter\n"
   ]
  },
  {
   "cell_type": "code",
   "execution_count": 62,
   "metadata": {},
   "outputs": [],
   "source": [
    "data_dir = Path(\"./data\")\n",
    "configs_dir = data_dir / Path(\"./configs\")\n",
    "images_dir = data_dir / Path(\"./images\")\n",
    "paths_txt_dir = data_dir / Path(\"./paths_txt\")\n",
    "paths_img_dir = data_dir / Path(\"./paths_img\")\n",
    "\n",
    "times_file = data_dir / Path(\"./times.txt\")\n",
    "summary_file = data_dir / Path(\"./summary.txt\")\n",
    "\n",
    "data_dir.mkdir(exist_ok=True)\n",
    "configs_dir.mkdir(exist_ok=True)\n",
    "images_dir.mkdir(exist_ok=True)\n",
    "paths_txt_dir.mkdir(exist_ok=True)\n",
    "paths_img_dir.mkdir(exist_ok=True)"
   ]
  },
  {
   "cell_type": "markdown",
   "metadata": {},
   "source": [
    "## Stworzenie zestawu konfiguracji"
   ]
  },
  {
   "cell_type": "code",
   "execution_count": 63,
   "metadata": {},
   "outputs": [],
   "source": [
    "def create_config_json(json_name, laplace, direction, magnitude):\n",
    "    jsondict = {\n",
    "        \"laplace_w\": laplace,\n",
    "        \"direction_w\": direction,\n",
    "        \"magnitude_w\": magnitude,\n",
    "        \"laplace_kernels\": [3, 5, 7],\n",
    "        \"gaussian_kernel\": 5,\n",
    "        \"laplace_weights\": [0.2, 0.3, 0.5],\n",
    "        \"maximum_cost\": 255,\n",
    "    }\n",
    "\n",
    "    with open(json_name, 'w+') as f:\n",
    "        json.dump(jsondict, f, indent=4)"
   ]
  },
  {
   "cell_type": "code",
   "execution_count": 92,
   "metadata": {},
   "outputs": [
    {
     "name": "stdout",
     "output_type": "stream",
     "text": [
      "Created 4913 configurations!\n"
     ]
    }
   ],
   "source": [
    "limit_up = 5\n",
    "limit_down = 0\n",
    "step = 0.3\n",
    "\n",
    "cfg_num = 0\n",
    "for laplace in np.arange(limit_down, limit_up, step):\n",
    "    for direction in np.arange(limit_down, limit_up, step):\n",
    "        for magnitude in np.arange(limit_down, limit_up, step):\n",
    "            create_config_json(configs_dir / f\"cfg_{cfg_num:05}.json\", laplace, direction, magnitude)\n",
    "            cfg_num += 1\n",
    "print(f\"Created {cfg_num} configurations!\")"
   ]
  },
  {
   "cell_type": "markdown",
   "metadata": {},
   "source": [
    "## Wczytanie danych"
   ]
  },
  {
   "cell_type": "code",
   "execution_count": 65,
   "metadata": {},
   "outputs": [],
   "source": [
    "image = cv2.imread(\"./testimage3.png\")\n",
    "path_reference = cv2.imread(\"testimage3_path_reference.png\")\n",
    "selected_points = [(19, 41), (34, 29), (54, 50), (24,64), (19, 41)]"
   ]
  },
  {
   "cell_type": "markdown",
   "metadata": {},
   "source": [
    "## Analiza dokładności stworzonych konfiguracji"
   ]
  },
  {
   "cell_type": "code",
   "execution_count": 66,
   "metadata": {},
   "outputs": [
    {
     "data": {
      "text/plain": [
       "2159"
      ]
     },
     "execution_count": 66,
     "metadata": {},
     "output_type": "execute_result"
    }
   ],
   "source": [
    "times_str = \"cfg_num;start_xy;end_xy;exec_time\\n\"\n",
    "summary_str = \"cfg_num;path_score;time_total\\n\"\n",
    "all_scores = {}\n",
    "min_configs = []\n",
    "min_score = np.inf\n",
    "for config_file in configs_dir.glob(\"*.json\"):\n",
    "    print(f\"\\r Processing configuration: {config_file}\", end=\"\")\n",
    "    image_temp = image.copy()\n",
    "    path_image = np.zeros_like(image)\n",
    "    cfg_num = config_file.stem.split(\"_\")[1]\n",
    "\n",
    "    pathfinder = Pathfinder(image, config_file=config_file)\n",
    "\n",
    "    path = []\n",
    "    time_total = 0\n",
    "    for i in range(len(selected_points)-1):\n",
    "        start_xy = selected_points[i]\n",
    "        end_xy = selected_points[i+1]\n",
    "        t_start = timeit.default_timer()\n",
    "        found_path = pathfinder.find_path(*start_xy, *end_xy)\n",
    "        t_end = timeit.default_timer()\n",
    "        exec_time = t_end - t_start\n",
    "        times_str += f\"{cfg_num};{start_xy};{end_xy};{exec_time}\\n\"\n",
    "        time_total += exec_time\n",
    "        path.extend(found_path)\n",
    "\n",
    "    path_str = \"\"\n",
    "    for x, y in path:\n",
    "        image_temp[x, y, :] = (255, 255, 0)\n",
    "        path_image[x, y, :] = (255, 255, 255)\n",
    "        path_str += f\"{x},{y}\\n\"\n",
    "    pathfile = paths_txt_dir / f\"path_{cfg_num}.txt\"\n",
    "    pathfile.write_text(path_str)\n",
    "\n",
    "    cv2.imwrite(str(images_dir / f\"img_{cfg_num}.png\"), image_temp)\n",
    "    cv2.imwrite(str(paths_img_dir / f\"path_{cfg_num}.png\"), path_image)\n",
    "    \n",
    "    path_score, hits, misses = eval_path(path_image, path_reference)\n",
    "    all_scores[config_file] = path_score\n",
    "    summary_str += f\"{cfg_num};{path_score};{time_total}\\n\"\n",
    "\n",
    "    if path_score == min_score:\n",
    "        min_configs.append(config_file)\n",
    "    elif path_score < min_score:\n",
    "        min_score = path_score\n",
    "        min_configs = [config_file]\n",
    "\n",
    "times_file.write_text(times_str)\n",
    "summary_file.write_text(summary_str)"
   ]
  },
  {
   "cell_type": "code",
   "execution_count": 67,
   "metadata": {},
   "outputs": [
    {
     "name": "stdout",
     "output_type": "stream",
     "text": [
      "Best score:\n",
      "0.01025\n",
      "Best configs:\n",
      "data\\configs\\cfg_00045.json\n"
     ]
    }
   ],
   "source": [
    "print(f\"Best score:\\n{min_score}\")\n",
    "print(f\"Best configs:\")\n",
    "for best_cfg in min_configs:\n",
    "    print(f\"{best_cfg}\")"
   ]
  },
  {
   "cell_type": "code",
   "execution_count": 91,
   "metadata": {},
   "outputs": [
    {
     "data": {
      "image/png": "[encoded data removed]",
      "text/plain": [
       "<Figure size 432x288 with 1 Axes>"
      ]
     },
     "metadata": {
      "needs_background": "light"
     },
     "output_type": "display_data"
    }
   ],
   "source": [
    "counted_scores = dict(Counter(list(all_scores.values())))\n",
    "cscores_vals, cscores_count = zip(*counted_scores.items())\n",
    "plt.plot(cscores_vals, cscores_count, '.')\n",
    "plt.show()\n"
   ]
  },
  {
   "cell_type": "markdown",
   "metadata": {},
   "source": [
    "## Testowanie wybranych konfiguracji"
   ]
  },
  {
   "cell_type": "code",
   "execution_count": 69,
   "metadata": {},
   "outputs": [],
   "source": [
    "iterations = 100\n",
    "scores = {}\n",
    "times = {}"
   ]
  },
  {
   "cell_type": "markdown",
   "metadata": {},
   "source": [
    "### Powtarzalność"
   ]
  },
  {
   "cell_type": "code",
   "execution_count": 70,
   "metadata": {},
   "outputs": [
    {
     "name": "stdout",
     "output_type": "stream",
     "text": [
      "data\\configs\\cfg_00045.json === 9\n"
     ]
    }
   ],
   "source": [
    "for cfg in min_configs:\n",
    "    scores[cfg] = []\n",
    "    all_paths = []\n",
    "    for j in range(iterations):\n",
    "        print(f\"\\r{cfg} === {j}\", end=\"\")\n",
    "        path_image = np.zeros_like(image)\n",
    "\n",
    "        pathfinder = Pathfinder(image, config_file=cfg)\n",
    "\n",
    "        path = []\n",
    "        for i in range(len(selected_points)-1):\n",
    "            start_xy = selected_points[i]\n",
    "            end_xy = selected_points[i+1]\n",
    "            found_path = pathfinder.find_path(*start_xy, *end_xy)\n",
    "            path.extend(found_path)\n",
    "        all_paths.append(path)\n",
    "        for x, y in path:\n",
    "            path_image[x, y, :] = (255, 255, 255)\n",
    "        \n",
    "        path_score, hits, misses = eval_path(path_image, path_reference)\n",
    "        scores[cfg].append(path_score)\n",
    "    print()\n",
    "    if not all(all_paths[0] == l for l in all_paths[1:]):\n",
    "        print(f\"There are inconsistencies in path found for {cfg} file\")"
   ]
  },
  {
   "cell_type": "markdown",
   "metadata": {},
   "source": [
    "### Czas wykonania"
   ]
  },
  {
   "cell_type": "code",
   "execution_count": 71,
   "metadata": {},
   "outputs": [
    {
     "name": "stdout",
     "output_type": "stream",
     "text": [
      "data\\configs\\cfg_00045.json === 9"
     ]
    }
   ],
   "source": [
    "for cfg in min_configs:\n",
    "    for j in range(iterations):\n",
    "        print(f\"\\r{cfg} === {j}\", end=\"\")\n",
    "        if not cfg in times:\n",
    "            times[cfg] = {}\n",
    "\n",
    "        path_image = np.zeros_like(image)\n",
    "\n",
    "        pathfinder = Pathfinder(image, config_file=cfg)\n",
    "\n",
    "        path = []\n",
    "        for i in range(len(selected_points)-1):\n",
    "            if not i in times[cfg]:\n",
    "                times[cfg][i] = []\n",
    "            start_xy = selected_points[i]\n",
    "            end_xy = selected_points[i+1]\n",
    "            t_start = timeit.default_timer()\n",
    "            found_path = pathfinder.find_path(*start_xy, *end_xy)\n",
    "            t_end = timeit.default_timer()\n",
    "            exec_time = t_end - t_start\n",
    "            times[cfg][i].append(exec_time)\n"
   ]
  },
  {
   "cell_type": "code",
   "execution_count": 72,
   "metadata": {},
   "outputs": [
    {
     "name": "stdout",
     "output_type": "stream",
     "text": [
      "Indexes in times dictionary correlate to finding paths:\n",
      "0 = from (19, 41) to (34, 29)\n",
      "1 = from (34, 29) to (54, 50)\n",
      "2 = from (54, 50) to (24, 64)\n",
      "3 = from (24, 64) to (19, 41)\n"
     ]
    }
   ],
   "source": [
    "print(\"Indexes in times dictionary correlate to finding paths:\")\n",
    "for i in range(len(selected_points)-1):\n",
    "    print(f\"{i} = from {selected_points[i]} to {selected_points[i+1]}\")"
   ]
  },
  {
   "cell_type": "code",
   "execution_count": 73,
   "metadata": {},
   "outputs": [
    {
     "name": "stdout",
     "output_type": "stream",
     "text": [
      "=== data\\configs\\cfg_00045.json ===\n",
      "0's avg: 0.06243913999996949\n",
      "1's avg: 0.08012940999992679\n",
      "2's avg: 0.04840346999994836\n",
      "3's avg: 0.042392610000024436\n"
     ]
    }
   ],
   "source": [
    "for k, v in times.items():\n",
    "    print(f\"=== {k} ===\")\n",
    "    for kk, vv in v.items():\n",
    "        print(f\"{kk}'s avg: {sum(vv)/iterations}\")\n"
   ]
  },
  {
   "cell_type": "markdown",
   "metadata": {},
   "source": [
    "## Wykresy"
   ]
  },
  {
   "cell_type": "code",
   "execution_count": null,
   "metadata": {},
   "outputs": [],
   "source": []
  }
 ],
 "metadata": {
  "interpreter": {
   "hash": "ac59ebe37160ed0dfa835113d9b8498d9f09ceb179beaac4002f036b9467c963"
  },
  "kernelspec": {
   "display_name": "Python 3.9.12 64-bit",
   "language": "python",
   "name": "python3"
  },
  "language_info": {
   "codemirror_mode": {
    "name": "ipython",
    "version": 3
   },
   "file_extension": ".py",
   "mimetype": "text/x-python",
   "name": "python",
   "nbconvert_exporter": "python",
   "pygments_lexer": "ipython3",
   "version": "3.9.12"
  },
  "orig_nbformat": 4
 },
 "nbformat": 4,
 "nbformat_minor": 2
}
