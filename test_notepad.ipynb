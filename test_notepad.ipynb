{
 "cells": [
  {
   "cell_type": "markdown",
   "metadata": {},
   "source": [
    "# Inteligentne nożyce"
   ]
  },
  {
   "cell_type": "markdown",
   "metadata": {},
   "source": [
    "## Przygotowanie środowiska"
   ]
  },
  {
   "cell_type": "code",
   "execution_count": 80,
   "metadata": {},
   "outputs": [],
   "source": [
    "from pathlib import Path\n",
    "import cv2, timeit, json, numpy as np\n",
    "from src.pathfinder import Pathfinder\n",
    "from src.utilities import eval_path\n",
    "import matplotlib.pyplot as plt\n",
    "from collections import Counter"
   ]
  },
  {
   "cell_type": "code",
   "execution_count": 81,
   "metadata": {},
   "outputs": [],
   "source": [
    "data_dir = Path(\"./data\")\n",
    "configs_dir = data_dir / Path(\"./configs\")\n",
    "images_dir = data_dir / Path(\"./images\")\n",
    "paths_txt_dir = data_dir / Path(\"./paths_txt\")\n",
    "paths_img_dir = data_dir / Path(\"./paths_img\")\n",
    "\n",
    "times_file = data_dir / Path(\"./times.txt\")\n",
    "summary_file = data_dir / Path(\"./summary.txt\")\n",
    "\n",
    "data_dir.mkdir(exist_ok=True)\n",
    "configs_dir.mkdir(exist_ok=True)\n",
    "images_dir.mkdir(exist_ok=True)\n",
    "paths_txt_dir.mkdir(exist_ok=True)\n",
    "paths_img_dir.mkdir(exist_ok=True)"
   ]
  },
  {
   "cell_type": "markdown",
   "metadata": {},
   "source": [
    "## Stworzenie zestawu konfiguracji"
   ]
  },
  {
   "cell_type": "code",
   "execution_count": 82,
   "metadata": {},
   "outputs": [],
   "source": [
    "def create_config_json(json_name, laplace, direction, magnitude):\n",
    "    jsondict = {\n",
    "        \"laplace_w\": laplace,\n",
    "        \"direction_w\": direction,\n",
    "        \"magnitude_w\": magnitude,\n",
    "        \"laplace_kernels\": [3, 5, 7],\n",
    "        \"gaussian_kernel\": 5,\n",
    "        \"laplace_weights\": [0.2, 0.3, 0.5],\n",
    "        \"maximum_cost\": 255,\n",
    "    }\n",
    "\n",
    "    with open(json_name, 'w+') as f:\n",
    "        json.dump(jsondict, f, indent=4)"
   ]
  },
  {
   "cell_type": "code",
   "execution_count": 83,
   "metadata": {},
   "outputs": [
    {
     "name": "stdout",
     "output_type": "stream",
     "text": [
      "Created 125 configurations!\n"
     ]
    }
   ],
   "source": [
    "limit_up = 1\n",
    "limit_down = 0\n",
    "step = 0.2\n",
    "\n",
    "cfg_num = 0\n",
    "for laplace in np.arange(limit_down, limit_up, step):\n",
    "    for direction in np.arange(limit_down, limit_up, step):\n",
    "        for magnitude in np.arange(limit_down, limit_up, step):\n",
    "            create_config_json(configs_dir / f\"cfg_{cfg_num:05}.json\", laplace, direction, magnitude)\n",
    "            cfg_num += 1\n",
    "print(f\"Created {cfg_num} configurations!\")"
   ]
  },
  {
   "cell_type": "markdown",
   "metadata": {},
   "source": [
    "## Funkcje"
   ]
  },
  {
   "cell_type": "code",
   "execution_count": 84,
   "metadata": {},
   "outputs": [],
   "source": [
    "def run_algo(image, path_reference, selected_points, iterations, img_name):\n",
    "    scores = {}\n",
    "    times = {}\n",
    "    parameters = {}\n",
    "    min_configs = []\n",
    "    min_score = np.inf\n",
    "\n",
    "    output_images_dir = images_dir / img_name\n",
    "    output_images_dir.mkdir(exist_ok=True)\n",
    "    output_paths_img_dir = paths_img_dir / img_name\n",
    "    output_paths_img_dir.mkdir(exist_ok=True)\n",
    "\n",
    "    min_images = {}\n",
    "    min_path_images = {}\n",
    "    for cfg in configs_dir.glob(\"*.json\"):\n",
    "        all_paths = []\n",
    "        cfg_num = cfg.stem.split(\"_\")[1]\n",
    "\n",
    "        with open(cfg, 'r') as f:\n",
    "            config_params = json.load(f)\n",
    "        parameters[cfg] = {\n",
    "            \"l\": config_params[\"laplace_w\"],\n",
    "            \"d\": config_params[\"direction_w\"],\n",
    "            \"m\": config_params[\"magnitude_w\"]\n",
    "        }\n",
    "        for it in range(iterations):\n",
    "            if not cfg in times:\n",
    "                times[cfg] = {}\n",
    "            if not \"total\" in times[cfg]:\n",
    "                times[cfg][\"total\"] = []\n",
    "            if not cfg in scores:\n",
    "                scores[cfg] = []\n",
    "\n",
    "            # print(f\"\\r Processing configuration: {cfg}, iteration: {it}\", end=\"\")\n",
    "            image_temp = image.copy()\n",
    "            path_image = np.zeros_like(image)\n",
    "\n",
    "            pathfinder = Pathfinder(image, config_file=cfg)\n",
    "\n",
    "            path = []\n",
    "            time_total = 0\n",
    "            for i in range(len(selected_points)-1):\n",
    "                \n",
    "                if not i in times[cfg]:\n",
    "                    times[cfg][i] = []\n",
    "                start_xy = selected_points[i]\n",
    "                end_xy = selected_points[i+1]\n",
    "                print(f\"\\r Processing configuration: {cfg}, iteration: {it}, from {start_xy} to {end_xy} ({i}-th pair)\", end=\"\")\n",
    "                t_start = timeit.default_timer()\n",
    "                found_path = pathfinder.find_path(start_xy, end_xy)\n",
    "                t_end = timeit.default_timer()\n",
    "                exec_time = t_end - t_start\n",
    "                time_total += exec_time\n",
    "                times[cfg][i].append(exec_time)\n",
    "                path.extend(found_path)\n",
    "            times[cfg][\"total\"].append(time_total)\n",
    "\n",
    "            for x, y in path:\n",
    "                image_temp[x, y, :] = (255, 255, 0)\n",
    "                path_image[x, y, :] = (255, 255, 255)\n",
    "\n",
    "            path_score, hits, misses = eval_path(path_image, path_reference)\n",
    "            scores[cfg].append(path_score)\n",
    "\n",
    "            if path_score == min_score:\n",
    "                min_configs.add(cfg)\n",
    "                min_images[cfg] = image_temp.copy()\n",
    "                min_path_images[cfg] = path_image.copy()\n",
    "            elif path_score < min_score:\n",
    "                min_score = path_score\n",
    "                min_configs = set([cfg])\n",
    "                min_images = {cfg: image_temp.copy()}\n",
    "                min_path_images = {cfg: path_image.copy()}\n",
    "\n",
    "        if not all(all_paths[0] == l for l in all_paths[1:]):\n",
    "            print(f\"\\rThere are inconsistencies in path found for {cfg} file\")\n",
    "    for mcfg in min_images:\n",
    "        mcfg_num = mcfg.stem.split(\"_\")[1]\n",
    "        cv2.imwrite(str(output_images_dir / f\"img_{mcfg_num}.png\"), min_images[mcfg])\n",
    "        cv2.imwrite(str(output_paths_img_dir / f\"path_{mcfg_num}.png\"), min_path_images[mcfg])\n",
    "        \n",
    "    print(\"\\nDone!\")\n",
    "    return image_temp, path_image, parameters, min_score, min_configs, scores, times\n",
    "            "
   ]
  },
  {
   "cell_type": "code",
   "execution_count": 85,
   "metadata": {},
   "outputs": [],
   "source": [
    "def params_plot(avg_scores, avg_times, parameters, min_configs):\n",
    "    avg_scores_vs_l = [[], []]\n",
    "    avg_scores_vs_d = [[], []]\n",
    "    avg_scores_vs_m = [[], []]\n",
    "    avg_times_vs_l = [[], []]\n",
    "    avg_times_vs_d = [[], []]\n",
    "    avg_times_vs_m = [[], []]\n",
    "\n",
    "    for k in parameters:\n",
    "        l = parameters[k][\"l\"]\n",
    "        d = parameters[k][\"d\"]\n",
    "        m = parameters[k][\"m\"]\n",
    "        avg_scores_vs_l[0].append(avg_scores[k])\n",
    "        avg_scores_vs_l[1].append(l)\n",
    "        avg_scores_vs_d[0].append(avg_scores[k])\n",
    "        avg_scores_vs_d[1].append(d)\n",
    "        avg_scores_vs_m[0].append(avg_scores[k])\n",
    "        avg_scores_vs_m[1].append(m)\n",
    "        avg_times_vs_l[0].append(avg_times[k])\n",
    "        avg_times_vs_l[1].append(l)\n",
    "        avg_times_vs_d[0].append(avg_times[k])\n",
    "        avg_times_vs_d[1].append(d)\n",
    "        avg_times_vs_m[0].append(avg_times[k])\n",
    "        avg_times_vs_m[1].append(m)\n",
    "    fig, axs = plt.subplots(3, 2, figsize=(15,15))\n",
    "\n",
    "    axs[0, 0].plot(*avg_scores_vs_l, '.', color='b')\n",
    "    axs[0, 0].set_xlabel(\"Score [miss/total pixel count]\")\n",
    "    axs[0, 0].set_ylabel(\"Laplace transform multiplier\")\n",
    "    axs[0, 0].grid(True, \"both\")\n",
    "    axs[0, 0].set_title(\"Score vs Laplace transform multiplier\")\n",
    "\n",
    "    axs[1, 0].plot(*avg_scores_vs_d, '.', color='b')\n",
    "    axs[1, 0].set_xlabel(\"Score [miss/total pixel count]\")\n",
    "    axs[1, 0].set_ylabel(\"Direction multiplier\")\n",
    "    axs[1, 0].grid(True, \"both\")\n",
    "    axs[0, 0].set_title(\"Score vs direction multiplier\")\n",
    "\n",
    "    axs[2, 0].plot(*avg_scores_vs_m, '.', color='b')\n",
    "    axs[2, 0].set_xlabel(\"Score [miss/total pixel count]\")\n",
    "    axs[2, 0].set_ylabel(\"Magnitude multiplier\")\n",
    "    axs[2, 0].grid(True, \"both\")\n",
    "    axs[0, 0].set_title(\"Score vs magnitude multiplier\")\n",
    "\n",
    "    axs[0, 1].plot(*avg_times_vs_l, '.', color='b')\n",
    "    axs[0, 1].set_xlabel(\"Total execution time [s]\")\n",
    "    axs[0, 1].set_ylabel(\"Laplace transform multiplier\")\n",
    "    axs[0, 1].grid(True, \"both\")\n",
    "    axs[0, 0].set_title(\"Score vs Laplace transform multiplier\")\n",
    "\n",
    "    axs[1, 1].plot(*avg_times_vs_d, '.', color='b')\n",
    "    axs[1, 1].set_xlabel(\"Total execution time [s]\")\n",
    "    axs[1, 1].set_ylabel(\"Direction multiplier\")\n",
    "    axs[1, 1].grid(True, \"both\")\n",
    "    axs[0, 0].set_title(\"Score vs direction multiplier\")\n",
    "\n",
    "    axs[2, 1].plot(*avg_times_vs_m, '.', color='b')\n",
    "    axs[2, 1].set_xlabel(\"Total execution time [s]\")\n",
    "    axs[2, 1].set_ylabel(\"Magnitude multiplier\")\n",
    "    axs[2, 1].grid(True, \"both\")\n",
    "    axs[0, 0].set_title(\"Score vs magnitude multiplier\")\n",
    "\n",
    "    for mcfg in list(min_configs):\n",
    "        l = parameters[mcfg][\"l\"]\n",
    "        d = parameters[mcfg][\"d\"]\n",
    "        m = parameters[mcfg][\"m\"]\n",
    "        min_score = avg_scores[mcfg]\n",
    "        min_time = avg_times[mcfg]\n",
    "        axs[0, 0].plot(min_score, l, '.', color='r')\n",
    "        axs[1, 0].plot(min_score, d, '.', color='r')\n",
    "        axs[2, 0].plot(min_score, m, '.', color='r')\n",
    "        axs[0, 1].plot(min_time, l, '.', color='r')\n",
    "        axs[1, 1].plot(min_time, d, '.', color='r')\n",
    "        axs[2, 1].plot(min_time, m, '.', color='r')\n",
    "    \n",
    "    plt.show()"
   ]
  },
  {
   "cell_type": "markdown",
   "metadata": {},
   "source": [
    "## Analiza obrazów"
   ]
  },
  {
   "cell_type": "code",
   "execution_count": 86,
   "metadata": {},
   "outputs": [],
   "source": [
    "iterations = 100"
   ]
  },
  {
   "cell_type": "markdown",
   "metadata": {},
   "source": [
    "### DEV TEST"
   ]
  },
  {
   "cell_type": "code",
   "execution_count": 87,
   "metadata": {},
   "outputs": [
    {
     "data": {
      "text/plain": [
       "<matplotlib.image.AxesImage at 0x20a9dcba460>"
      ]
     },
     "execution_count": 87,
     "metadata": {},
     "output_type": "execute_result"
    },
    {
     "data": {
      "image/png": "[encoded data removed]",
      "text/plain": [
       "<Figure size 432x288 with 1 Axes>"
      ]
     },
     "metadata": {
      "needs_background": "light"
     },
     "output_type": "display_data"
    }
   ],
   "source": [
    "image = cv2.imread(\"./testimage3.png\")\n",
    "path_reference = cv2.imread(\"testimage3_path_reference.png\")\n",
    "selected_points = [(19, 41), (34, 29), (54, 50), (24,64), (19, 41)]\n",
    "plt.imshow(image)"
   ]
  },
  {
   "cell_type": "code",
   "execution_count": 88,
   "metadata": {},
   "outputs": [
    {
     "name": "stdout",
     "output_type": "stream",
     "text": [
      " Processing configuration: data\\configs\\cfg_00000.json, iteration: 27, from (19, 41) to (34, 29) (0-th pair)"
     ]
    },
    {
     "ename": "KeyboardInterrupt",
     "evalue": "",
     "output_type": "error",
     "traceback": [
      "\u001b[1;31m---------------------------------------------------------------------------\u001b[0m",
      "\u001b[1;31mKeyboardInterrupt\u001b[0m                         Traceback (most recent call last)",
      "\u001b[1;32me:\\_studia\\IO\\intelligent-scissors\\test_notepad.ipynb Cell 15'\u001b[0m in \u001b[0;36m<cell line: 1>\u001b[1;34m()\u001b[0m\n\u001b[1;32m----> <a href='vscode-notebook-cell:/e%3A/_studia/IO/intelligent-scissors/test_notepad.ipynb#ch0000014?line=0'>1</a>\u001b[0m image_with_path, path_image, parameters, min_score, min_configs, scores, times \u001b[39m=\u001b[39m run_algo(image, path_reference, selected_points, iterations, \u001b[39m\"\u001b[39;49m\u001b[39mdev\u001b[39;49m\u001b[39m\"\u001b[39;49m)\n",
      "\u001b[1;32me:\\_studia\\IO\\intelligent-scissors\\test_notepad.ipynb Cell 9'\u001b[0m in \u001b[0;36mrun_algo\u001b[1;34m(image, path_reference, selected_points, iterations, img_name)\u001b[0m\n\u001b[0;32m     <a href='vscode-notebook-cell:/e%3A/_studia/IO/intelligent-scissors/test_notepad.ipynb#ch0000008?line=47'>48</a>\u001b[0m \u001b[39mprint\u001b[39m(\u001b[39mf\u001b[39m\u001b[39m\"\u001b[39m\u001b[39m\\r\u001b[39;00m\u001b[39m Processing configuration: \u001b[39m\u001b[39m{\u001b[39;00mcfg\u001b[39m}\u001b[39;00m\u001b[39m, iteration: \u001b[39m\u001b[39m{\u001b[39;00mit\u001b[39m}\u001b[39;00m\u001b[39m, from \u001b[39m\u001b[39m{\u001b[39;00mstart_xy\u001b[39m}\u001b[39;00m\u001b[39m to \u001b[39m\u001b[39m{\u001b[39;00mend_xy\u001b[39m}\u001b[39;00m\u001b[39m (\u001b[39m\u001b[39m{\u001b[39;00mi\u001b[39m}\u001b[39;00m\u001b[39m-th pair)\u001b[39m\u001b[39m\"\u001b[39m, end\u001b[39m=\u001b[39m\u001b[39m\"\u001b[39m\u001b[39m\"\u001b[39m)\n\u001b[0;32m     <a href='vscode-notebook-cell:/e%3A/_studia/IO/intelligent-scissors/test_notepad.ipynb#ch0000008?line=48'>49</a>\u001b[0m t_start \u001b[39m=\u001b[39m timeit\u001b[39m.\u001b[39mdefault_timer()\n\u001b[1;32m---> <a href='vscode-notebook-cell:/e%3A/_studia/IO/intelligent-scissors/test_notepad.ipynb#ch0000008?line=49'>50</a>\u001b[0m found_path \u001b[39m=\u001b[39m pathfinder\u001b[39m.\u001b[39;49mfind_path(start_xy, end_xy)\n\u001b[0;32m     <a href='vscode-notebook-cell:/e%3A/_studia/IO/intelligent-scissors/test_notepad.ipynb#ch0000008?line=50'>51</a>\u001b[0m t_end \u001b[39m=\u001b[39m timeit\u001b[39m.\u001b[39mdefault_timer()\n\u001b[0;32m     <a href='vscode-notebook-cell:/e%3A/_studia/IO/intelligent-scissors/test_notepad.ipynb#ch0000008?line=51'>52</a>\u001b[0m exec_time \u001b[39m=\u001b[39m t_end \u001b[39m-\u001b[39m t_start\n",
      "File \u001b[1;32me:\\_studia\\IO\\intelligent-scissors\\src\\pathfinder.py:43\u001b[0m, in \u001b[0;36mPathfinder.find_path\u001b[1;34m(self, start, end)\u001b[0m\n\u001b[0;32m     <a href='file:///e%3A/_studia/IO/intelligent-scissors/src/pathfinder.py?line=40'>41</a>\u001b[0m visited \u001b[39m=\u001b[39m \u001b[39mset\u001b[39m()\n\u001b[0;32m     <a href='file:///e%3A/_studia/IO/intelligent-scissors/src/pathfinder.py?line=41'>42</a>\u001b[0m \u001b[39mwhile\u001b[39;00m \u001b[39mTrue\u001b[39;00m:\n\u001b[1;32m---> <a href='file:///e%3A/_studia/IO/intelligent-scissors/src/pathfinder.py?line=42'>43</a>\u001b[0m     cost, p, path \u001b[39m=\u001b[39m heapq\u001b[39m.\u001b[39;49mheappop(priority_heap)\n\u001b[0;32m     <a href='file:///e%3A/_studia/IO/intelligent-scissors/src/pathfinder.py?line=43'>44</a>\u001b[0m     \u001b[39mif\u001b[39;00m p \u001b[39mnot\u001b[39;00m \u001b[39min\u001b[39;00m visited:\n\u001b[0;32m     <a href='file:///e%3A/_studia/IO/intelligent-scissors/src/pathfinder.py?line=44'>45</a>\u001b[0m         visited\u001b[39m.\u001b[39madd(p)\n",
      "\u001b[1;31mKeyboardInterrupt\u001b[0m: "
     ]
    }
   ],
   "source": [
    "image_with_path, path_image, parameters, min_score, min_configs, scores, times = run_algo(image, path_reference, selected_points, iterations, \"dev\")"
   ]
  },
  {
   "cell_type": "code",
   "execution_count": null,
   "metadata": {},
   "outputs": [
    {
     "name": "stdout",
     "output_type": "stream",
     "text": [
      "Min score: 0.019375\n",
      "Min configs:\n",
      "data\\configs\\cfg_00011.json\n",
      "data\\configs\\cfg_00014.json\n",
      "data\\configs\\cfg_00006.json\n",
      "data\\configs\\cfg_00009.json\n",
      "data\\configs\\cfg_00010.json\n",
      "data\\configs\\cfg_00005.json\n",
      "data\\configs\\cfg_00015.json\n",
      "data\\configs\\cfg_00007.json\n"
     ]
    }
   ],
   "source": [
    "print(\"Min score:\", min_score)\n",
    "print(\"Min configs:\")\n",
    "for cfg in list(min_configs):\n",
    "    print(cfg)"
   ]
  },
  {
   "cell_type": "code",
   "execution_count": null,
   "metadata": {},
   "outputs": [],
   "source": [
    "avg_scores = {k: sum(v)/len(v) for k, v in scores.items()}\n",
    "avg_times =  {k: sum(v[\"total\"])/len(v[\"total\"]) for k, v in times.items()}"
   ]
  },
  {
   "cell_type": "code",
   "execution_count": null,
   "metadata": {},
   "outputs": [
    {
     "data": {
      "image/png": "[encoded data removed]",
      "text/plain": [
       "<Figure size 432x288 with 1 Axes>"
      ]
     },
     "metadata": {
      "needs_background": "light"
     },
     "output_type": "display_data"
    }
   ],
   "source": [
    "scores_vals = [sum(s)/len(s) for s in scores.values()]\n",
    "counted_scores = dict(Counter(scores_vals))\n",
    "cscores_vals, cscores_count = zip(*counted_scores.items())\n",
    "plt.plot(cscores_vals, cscores_count, '.')\n",
    "plt.show()"
   ]
  },
  {
   "cell_type": "code",
   "execution_count": null,
   "metadata": {},
   "outputs": [
    {
     "data": {
      "image/png": "[encoded data removed]",
      "text/plain": [
       "<Figure size 432x288 with 1 Axes>"
      ]
     },
     "metadata": {
      "needs_background": "light"
     },
     "output_type": "display_data"
    }
   ],
   "source": [
    "times_vals = [sum(s[\"total\"])/len(s[\"total\"]) for s in times.values()]\n",
    "counted_scores = dict(Counter(times_vals))\n",
    "ctimes_vals, ctimes_count = zip(*counted_scores.items())\n",
    "plt.plot(ctimes_vals, ctimes_count, '.')\n",
    "plt.show()"
   ]
  },
  {
   "cell_type": "code",
   "execution_count": null,
   "metadata": {},
   "outputs": [
    {
     "data": {
      "image/png": "[encoded data removed]",
      "text/plain": [
       "<Figure size 432x288 with 1 Axes>"
      ]
     },
     "metadata": {
      "needs_background": "light"
     },
     "output_type": "display_data"
    }
   ],
   "source": [
    "plt.plot(times_vals, scores_vals, 'o')\n",
    "plt.show()"
   ]
  },
  {
   "cell_type": "code",
   "execution_count": null,
   "metadata": {},
   "outputs": [
    {
     "data": {
      "image/png": "[encoded data removed]",
      "text/plain": [
       "<Figure size 1080x1080 with 6 Axes>"
      ]
     },
     "metadata": {
      "needs_background": "light"
     },
     "output_type": "display_data"
    }
   ],
   "source": [
    "params_plot(avg_scores, avg_times, parameters, min_configs)"
   ]
  },
  {
   "cell_type": "markdown",
   "metadata": {},
   "source": [
    "### Obraz testowy 0"
   ]
  },
  {
   "cell_type": "code",
   "execution_count": null,
   "metadata": {},
   "outputs": [],
   "source": [
    "image = cv2.imread(\"./test_images/obraztestowy_0.png\")\n",
    "path_reference = cv2.imread(\"./test_images/obraztestowy_0_path.png\")\n",
    "selected_points = [(50,85), (86,83), (80,58), (68,22), (42,18), (10,35), (20,63), (30,94), (50,85)]\n",
    "plt.imshow(image)"
   ]
  },
  {
   "cell_type": "code",
   "execution_count": null,
   "metadata": {},
   "outputs": [],
   "source": [
    "image_with_path, path_image, parameters, min_score, min_configs, scores, times = run_algo(image, path_reference, selected_points, iterations, \"test00\")"
   ]
  },
  {
   "cell_type": "code",
   "execution_count": null,
   "metadata": {},
   "outputs": [],
   "source": [
    "print(\"Min score:\", min_score)\n",
    "print(\"Min configs:\")\n",
    "for cfg in list(min_configs):\n",
    "    print(cfg)"
   ]
  },
  {
   "cell_type": "code",
   "execution_count": null,
   "metadata": {},
   "outputs": [],
   "source": [
    "avg_scores = {k: sum(v)/len(v) for k, v in scores.items()}\n",
    "avg_times =  {k: sum(v[\"total\"])/len(v[\"total\"]) for k, v in times.items()}"
   ]
  },
  {
   "cell_type": "code",
   "execution_count": null,
   "metadata": {},
   "outputs": [],
   "source": [
    "scores_vals = [sum(s)/len(s) for s in scores.values()]\n",
    "counted_scores = dict(Counter(scores_vals))\n",
    "cscores_vals, cscores_count = zip(*counted_scores.items())\n",
    "plt.plot(cscores_vals, cscores_count, '.')\n",
    "plt.show()"
   ]
  },
  {
   "cell_type": "code",
   "execution_count": null,
   "metadata": {},
   "outputs": [],
   "source": [
    "times_vals = [sum(s[\"total\"])/len(s[\"total\"]) for s in times.values()]\n",
    "counted_scores = dict(Counter(times_vals))\n",
    "ctimes_vals, ctimes_count = zip(*counted_scores.items())\n",
    "plt.plot(ctimes_vals, ctimes_count, '.')\n",
    "plt.show()"
   ]
  },
  {
   "cell_type": "code",
   "execution_count": null,
   "metadata": {},
   "outputs": [],
   "source": [
    "plt.plot(times_vals, scores_vals, 'o')\n",
    "plt.show()"
   ]
  },
  {
   "cell_type": "code",
   "execution_count": null,
   "metadata": {},
   "outputs": [],
   "source": [
    "params_plot(avg_scores, avg_times, parameters, min_configs)"
   ]
  },
  {
   "cell_type": "markdown",
   "metadata": {},
   "source": [
    "### Obraz testowy 1"
   ]
  },
  {
   "cell_type": "code",
   "execution_count": null,
   "metadata": {},
   "outputs": [],
   "source": [
    "image = cv2.imread(\"./test_images/obraztestowy_1.png\")\n",
    "path_reference = cv2.imread(\"./test_images/obraztestowy_1_path.png\")\n",
    "selected_points = [(65,59), (79,49), (72,24), (46,33), (49,53), (65,59)]\n",
    "plt.imshow(image)"
   ]
  },
  {
   "cell_type": "code",
   "execution_count": null,
   "metadata": {},
   "outputs": [],
   "source": [
    "image_with_path, path_image, parameters, min_score, min_configs, scores, times = run_algo(image, path_reference, selected_points, iterations, \"test01\")"
   ]
  },
  {
   "cell_type": "code",
   "execution_count": null,
   "metadata": {},
   "outputs": [],
   "source": [
    "print(\"Min score:\", min_score)\n",
    "print(\"Min configs:\")\n",
    "for cfg in list(min_configs):\n",
    "    print(cfg)"
   ]
  },
  {
   "cell_type": "code",
   "execution_count": null,
   "metadata": {},
   "outputs": [],
   "source": [
    "avg_scores = {k: sum(v)/len(v) for k, v in scores.items()}\n",
    "avg_times =  {k: sum(v[\"total\"])/len(v[\"total\"]) for k, v in times.items()}"
   ]
  },
  {
   "cell_type": "code",
   "execution_count": null,
   "metadata": {},
   "outputs": [],
   "source": [
    "scores_vals = [sum(s)/len(s) for s in scores.values()]\n",
    "counted_scores = dict(Counter(scores_vals))\n",
    "cscores_vals, cscores_count = zip(*counted_scores.items())\n",
    "plt.plot(cscores_vals, cscores_count, '.')\n",
    "plt.show()"
   ]
  },
  {
   "cell_type": "code",
   "execution_count": null,
   "metadata": {},
   "outputs": [],
   "source": [
    "times_vals = [sum(s[\"total\"])/len(s[\"total\"]) for s in times.values()]\n",
    "counted_scores = dict(Counter(times_vals))\n",
    "ctimes_vals, ctimes_count = zip(*counted_scores.items())\n",
    "plt.plot(ctimes_vals, ctimes_count, '.')\n",
    "plt.show()"
   ]
  },
  {
   "cell_type": "code",
   "execution_count": null,
   "metadata": {},
   "outputs": [],
   "source": [
    "plt.plot(times_vals, scores_vals, 'o')\n",
    "plt.show()"
   ]
  },
  {
   "cell_type": "code",
   "execution_count": null,
   "metadata": {},
   "outputs": [],
   "source": [
    "params_plot(avg_scores, avg_times, parameters, min_configs)"
   ]
  },
  {
   "cell_type": "markdown",
   "metadata": {},
   "source": [
    "### Obraz testowy 2"
   ]
  },
  {
   "cell_type": "code",
   "execution_count": null,
   "metadata": {},
   "outputs": [],
   "source": [
    "image = cv2.imread(\"./test_images/obraztestowy_2.png\")\n",
    "path_reference = cv2.imread(\"./test_images/obraztestowy_2_path.png\")\n",
    "selected_points = [(50,85), (86,83), (80,58), (68,22), (42,18), (10,35), (20,63), (30,94), (50,85)]\n",
    "plt.imshow(image)"
   ]
  },
  {
   "cell_type": "code",
   "execution_count": null,
   "metadata": {},
   "outputs": [],
   "source": [
    "image_with_path, path_image, parameters, min_score, min_configs, scores, times = run_algo(image, path_reference, selected_points, iterations, \"test02\")"
   ]
  },
  {
   "cell_type": "code",
   "execution_count": null,
   "metadata": {},
   "outputs": [],
   "source": [
    "print(\"Min score:\", min_score)\n",
    "print(\"Min configs:\")\n",
    "for cfg in list(min_configs):\n",
    "    print(cfg)"
   ]
  },
  {
   "cell_type": "code",
   "execution_count": null,
   "metadata": {},
   "outputs": [],
   "source": [
    "avg_scores = {k: sum(v)/len(v) for k, v in scores.items()}\n",
    "avg_times =  {k: sum(v[\"total\"])/len(v[\"total\"]) for k, v in times.items()}"
   ]
  },
  {
   "cell_type": "code",
   "execution_count": null,
   "metadata": {},
   "outputs": [],
   "source": [
    "scores_vals = [sum(s)/len(s) for s in scores.values()]\n",
    "counted_scores = dict(Counter(scores_vals))\n",
    "cscores_vals, cscores_count = zip(*counted_scores.items())\n",
    "plt.plot(cscores_vals, cscores_count, '.')\n",
    "plt.show()"
   ]
  },
  {
   "cell_type": "code",
   "execution_count": null,
   "metadata": {},
   "outputs": [],
   "source": [
    "times_vals = [sum(s[\"total\"])/len(s[\"total\"]) for s in times.values()]\n",
    "counted_scores = dict(Counter(times_vals))\n",
    "ctimes_vals, ctimes_count = zip(*counted_scores.items())\n",
    "plt.plot(ctimes_vals, ctimes_count, '.')\n",
    "plt.show()"
   ]
  },
  {
   "cell_type": "code",
   "execution_count": null,
   "metadata": {},
   "outputs": [],
   "source": [
    "plt.plot(times_vals, scores_vals, 'o')\n",
    "plt.show()"
   ]
  },
  {
   "cell_type": "code",
   "execution_count": null,
   "metadata": {},
   "outputs": [],
   "source": [
    "params_plot(avg_scores, avg_times, parameters, min_configs)"
   ]
  },
  {
   "cell_type": "markdown",
   "metadata": {},
   "source": [
    "### Obraz testowy 3"
   ]
  },
  {
   "cell_type": "code",
   "execution_count": null,
   "metadata": {},
   "outputs": [],
   "source": [
    "image = cv2.imread(\"./test_images/obraztestowy_3.png\")\n",
    "path_reference = cv2.imread(\"./test_images/obraztestowy_3_path.png\")\n",
    "selected_points = [(67, 71), (84,54), (80,40), (64,33), (46,52), (67,71)]\n",
    "plt.imshow(image)"
   ]
  },
  {
   "cell_type": "code",
   "execution_count": null,
   "metadata": {},
   "outputs": [],
   "source": [
    "image_with_path, path_image, parameters, min_score, min_configs, scores, times = run_algo(image, path_reference, selected_points, iterations, \"test03\")"
   ]
  },
  {
   "cell_type": "code",
   "execution_count": null,
   "metadata": {},
   "outputs": [],
   "source": [
    "print(\"Min score:\", min_score)\n",
    "print(\"Min configs:\")\n",
    "for cfg in list(min_configs):\n",
    "    print(cfg)"
   ]
  },
  {
   "cell_type": "code",
   "execution_count": null,
   "metadata": {},
   "outputs": [],
   "source": [
    "avg_scores = {k: sum(v)/len(v) for k, v in scores.items()}\n",
    "avg_times =  {k: sum(v[\"total\"])/len(v[\"total\"]) for k, v in times.items()}"
   ]
  },
  {
   "cell_type": "code",
   "execution_count": null,
   "metadata": {},
   "outputs": [],
   "source": [
    "scores_vals = [sum(s)/len(s) for s in scores.values()]\n",
    "counted_scores = dict(Counter(scores_vals))\n",
    "cscores_vals, cscores_count = zip(*counted_scores.items())\n",
    "plt.plot(cscores_vals, cscores_count, '.')\n",
    "plt.show()"
   ]
  },
  {
   "cell_type": "code",
   "execution_count": null,
   "metadata": {},
   "outputs": [],
   "source": [
    "times_vals = [sum(s[\"total\"])/len(s[\"total\"]) for s in times.values()]\n",
    "counted_scores = dict(Counter(times_vals))\n",
    "ctimes_vals, ctimes_count = zip(*counted_scores.items())\n",
    "plt.plot(ctimes_vals, ctimes_count, '.')\n",
    "plt.show()"
   ]
  },
  {
   "cell_type": "code",
   "execution_count": null,
   "metadata": {},
   "outputs": [],
   "source": [
    "plt.plot(times_vals, scores_vals, 'o')\n",
    "plt.show()"
   ]
  },
  {
   "cell_type": "code",
   "execution_count": null,
   "metadata": {},
   "outputs": [],
   "source": [
    "params_plot(avg_scores, avg_times, parameters, min_configs)"
   ]
  },
  {
   "cell_type": "markdown",
   "metadata": {},
   "source": [
    "### Obraz testowy 4"
   ]
  },
  {
   "cell_type": "code",
   "execution_count": null,
   "metadata": {},
   "outputs": [],
   "source": [
    "image = cv2.imread(\"./test_images/obraztestowy_4.png\")\n",
    "path_reference = cv2.imread(\"./test_images/obraztestowy_4_path.png\")\n",
    "selected_points = [(67, 71), (84,54), (80,40), (64,33), (46,52), (67,71)]\n",
    "plt.imshow(image)"
   ]
  },
  {
   "cell_type": "code",
   "execution_count": null,
   "metadata": {},
   "outputs": [],
   "source": [
    "image_with_path, path_image, parameters, min_score, min_configs, scores, times = run_algo(image, path_reference, selected_points, iterations, \"test04\")"
   ]
  },
  {
   "cell_type": "code",
   "execution_count": null,
   "metadata": {},
   "outputs": [],
   "source": [
    "print(\"Min score:\", min_score)\n",
    "print(\"Min configs:\")\n",
    "for cfg in list(min_configs):\n",
    "    print(cfg)"
   ]
  },
  {
   "cell_type": "code",
   "execution_count": null,
   "metadata": {},
   "outputs": [],
   "source": [
    "avg_scores = {k: sum(v)/len(v) for k, v in scores.items()}\n",
    "avg_times =  {k: sum(v[\"total\"])/len(v[\"total\"]) for k, v in times.items()}"
   ]
  },
  {
   "cell_type": "code",
   "execution_count": null,
   "metadata": {},
   "outputs": [],
   "source": [
    "scores_vals = [sum(s)/len(s) for s in scores.values()]\n",
    "counted_scores = dict(Counter(scores_vals))\n",
    "cscores_vals, cscores_count = zip(*counted_scores.items())\n",
    "plt.plot(cscores_vals, cscores_count, '.')\n",
    "plt.show()"
   ]
  },
  {
   "cell_type": "code",
   "execution_count": null,
   "metadata": {},
   "outputs": [],
   "source": [
    "times_vals = [sum(s[\"total\"])/len(s[\"total\"]) for s in times.values()]\n",
    "counted_scores = dict(Counter(times_vals))\n",
    "ctimes_vals, ctimes_count = zip(*counted_scores.items())\n",
    "plt.plot(ctimes_vals, ctimes_count, '.')\n",
    "plt.show()"
   ]
  },
  {
   "cell_type": "code",
   "execution_count": null,
   "metadata": {},
   "outputs": [],
   "source": [
    "plt.plot(times_vals, scores_vals, 'o')\n",
    "plt.show()"
   ]
  },
  {
   "cell_type": "code",
   "execution_count": null,
   "metadata": {},
   "outputs": [],
   "source": [
    "params_plot(avg_scores, avg_times, parameters, min_configs)"
   ]
  },
  {
   "cell_type": "markdown",
   "metadata": {},
   "source": [
    "### Obraz testowy 5"
   ]
  },
  {
   "cell_type": "code",
   "execution_count": null,
   "metadata": {},
   "outputs": [],
   "source": [
    "image = cv2.imread(\"./test_images/obraztestowy_5.png\")\n",
    "path_reference = cv2.imread(\"./test_images/obraztestowy_5_9_path.png\")\n",
    "selected_points = [(382,510), (381,496), (379,489), (373, 469), (373, 466), (368,454), (371, 425), (376, 356), (368, 292), (367, 221), (370, 209), (385, 198), (397, 186), (409, 166), (412, 156), (413, 116), (412, 110), (370, 130), (345, 144), (329, 121), (325, 110), (313, 97), (305, 91), (295, 75), (274, 62), (218, 45), (150, 78), (123, 129), (118, 181), (126, 201), (139, 239), (90, 289), (83, 348), (74, 391), (65, 510)]\n",
    "plt.imshow(image)"
   ]
  },
  {
   "cell_type": "code",
   "execution_count": null,
   "metadata": {},
   "outputs": [],
   "source": [
    "image_with_path, path_image, parameters, min_score, min_configs, scores, times = run_algo(image, path_reference, selected_points, iterations, \"test05\")"
   ]
  },
  {
   "cell_type": "code",
   "execution_count": null,
   "metadata": {},
   "outputs": [],
   "source": [
    "print(\"Min score:\", min_score)\n",
    "print(\"Min configs:\")\n",
    "for cfg in list(min_configs):\n",
    "    print(cfg)"
   ]
  },
  {
   "cell_type": "code",
   "execution_count": null,
   "metadata": {},
   "outputs": [],
   "source": [
    "avg_scores = {k: sum(v)/len(v) for k, v in scores.items()}\n",
    "avg_times =  {k: sum(v[\"total\"])/len(v[\"total\"]) for k, v in times.items()}"
   ]
  },
  {
   "cell_type": "code",
   "execution_count": null,
   "metadata": {},
   "outputs": [],
   "source": [
    "scores_vals = [sum(s)/len(s) for s in scores.values()]\n",
    "counted_scores = dict(Counter(scores_vals))\n",
    "cscores_vals, cscores_count = zip(*counted_scores.items())\n",
    "plt.plot(cscores_vals, cscores_count, '.')\n",
    "plt.show()"
   ]
  },
  {
   "cell_type": "code",
   "execution_count": null,
   "metadata": {},
   "outputs": [],
   "source": [
    "times_vals = [sum(s[\"total\"])/len(s[\"total\"]) for s in times.values()]\n",
    "counted_scores = dict(Counter(times_vals))\n",
    "ctimes_vals, ctimes_count = zip(*counted_scores.items())\n",
    "plt.plot(ctimes_vals, ctimes_count, '.')\n",
    "plt.show()"
   ]
  },
  {
   "cell_type": "code",
   "execution_count": null,
   "metadata": {},
   "outputs": [],
   "source": [
    "plt.plot(times_vals, scores_vals, 'o')\n",
    "plt.show()"
   ]
  },
  {
   "cell_type": "code",
   "execution_count": null,
   "metadata": {},
   "outputs": [],
   "source": [
    "params_plot(avg_scores, avg_times, parameters, min_configs)"
   ]
  },
  {
   "cell_type": "markdown",
   "metadata": {},
   "source": [
    "### Obraz testowy 6"
   ]
  },
  {
   "cell_type": "code",
   "execution_count": null,
   "metadata": {},
   "outputs": [],
   "source": [
    "image = cv2.imread(\"./test_images/obraztestowy_6.png\")\n",
    "path_reference = cv2.imread(\"./test_images/obraztestowy_5_9_path.png\")\n",
    "selected_points = [(382,510), (381,496), (379,489), (373, 469), (373, 466), (368,454), (371, 425), (376, 356), (368, 292), (367, 221), (370, 209), (385, 198), (397, 186), (409, 166), (412, 156), (413, 116), (412, 110), (370, 130), (345, 144), (329, 121), (325, 110), (313, 97), (305, 91), (295, 75), (274, 62), (218, 45), (150, 78), (123, 129), (118, 181), (126, 201), (139, 239), (90, 289), (83, 348), (74, 391), (65, 510)]\n",
    "plt.imshow(image)"
   ]
  },
  {
   "cell_type": "code",
   "execution_count": null,
   "metadata": {},
   "outputs": [],
   "source": [
    "image_with_path, path_image, parameters, min_score, min_configs, scores, times = run_algo(image, path_reference, selected_points, iterations, \"test06\")"
   ]
  },
  {
   "cell_type": "code",
   "execution_count": null,
   "metadata": {},
   "outputs": [],
   "source": [
    "print(\"Min score:\", min_score)\n",
    "print(\"Min configs:\")\n",
    "for cfg in list(min_configs):\n",
    "    print(cfg)"
   ]
  },
  {
   "cell_type": "code",
   "execution_count": null,
   "metadata": {},
   "outputs": [],
   "source": [
    "avg_scores = {k: sum(v)/len(v) for k, v in scores.items()}\n",
    "avg_times =  {k: sum(v[\"total\"])/len(v[\"total\"]) for k, v in times.items()}"
   ]
  },
  {
   "cell_type": "code",
   "execution_count": null,
   "metadata": {},
   "outputs": [],
   "source": [
    "scores_vals = [sum(s)/len(s) for s in scores.values()]\n",
    "counted_scores = dict(Counter(scores_vals))\n",
    "cscores_vals, cscores_count = zip(*counted_scores.items())\n",
    "plt.plot(cscores_vals, cscores_count, '.')\n",
    "plt.show()"
   ]
  },
  {
   "cell_type": "code",
   "execution_count": null,
   "metadata": {},
   "outputs": [],
   "source": [
    "times_vals = [sum(s[\"total\"])/len(s[\"total\"]) for s in times.values()]\n",
    "counted_scores = dict(Counter(times_vals))\n",
    "ctimes_vals, ctimes_count = zip(*counted_scores.items())\n",
    "plt.plot(ctimes_vals, ctimes_count, '.')\n",
    "plt.show()"
   ]
  },
  {
   "cell_type": "code",
   "execution_count": null,
   "metadata": {},
   "outputs": [],
   "source": [
    "plt.plot(times_vals, scores_vals, 'o')\n",
    "plt.show()"
   ]
  },
  {
   "cell_type": "code",
   "execution_count": null,
   "metadata": {},
   "outputs": [],
   "source": [
    "params_plot(avg_scores, avg_times, parameters, min_configs)"
   ]
  },
  {
   "cell_type": "markdown",
   "metadata": {},
   "source": [
    "### Obraz testowy 7"
   ]
  },
  {
   "cell_type": "code",
   "execution_count": null,
   "metadata": {},
   "outputs": [],
   "source": [
    "image = cv2.imread(\"./test_images/obraztestowy_7.png\")\n",
    "path_reference = cv2.imread(\"./test_images/obraztestowy_5_9_path.png\")\n",
    "selected_points = [(382,510), (381,496), (379,489), (373, 469), (373, 466), (368,454), (371, 425), (376, 356), (368, 292), (367, 221), (370, 209), (385, 198), (397, 186), (409, 166), (412, 156), (413, 116), (412, 110), (370, 130), (345, 144), (329, 121), (325, 110), (313, 97), (305, 91), (295, 75), (274, 62), (218, 45), (150, 78), (123, 129), (118, 181), (126, 201), (139, 239), (90, 289), (83, 348), (74, 391), (65, 510)]\n",
    "plt.imshow(image)"
   ]
  },
  {
   "cell_type": "code",
   "execution_count": null,
   "metadata": {},
   "outputs": [],
   "source": [
    "image_with_path, path_image, parameters, min_score, min_configs, scores, times = run_algo(image, path_reference, selected_points, iterations, \"test07\")"
   ]
  },
  {
   "cell_type": "code",
   "execution_count": null,
   "metadata": {},
   "outputs": [],
   "source": [
    "print(\"Min score:\", min_score)\n",
    "print(\"Min configs:\")\n",
    "for cfg in list(min_configs):\n",
    "    print(cfg)"
   ]
  },
  {
   "cell_type": "code",
   "execution_count": null,
   "metadata": {},
   "outputs": [],
   "source": [
    "avg_scores = {k: sum(v)/len(v) for k, v in scores.items()}\n",
    "avg_times =  {k: sum(v[\"total\"])/len(v[\"total\"]) for k, v in times.items()}"
   ]
  },
  {
   "cell_type": "code",
   "execution_count": null,
   "metadata": {},
   "outputs": [],
   "source": [
    "scores_vals = [sum(s)/len(s) for s in scores.values()]\n",
    "counted_scores = dict(Counter(scores_vals))\n",
    "cscores_vals, cscores_count = zip(*counted_scores.items())\n",
    "plt.plot(cscores_vals, cscores_count, '.')\n",
    "plt.show()"
   ]
  },
  {
   "cell_type": "code",
   "execution_count": null,
   "metadata": {},
   "outputs": [],
   "source": [
    "times_vals = [sum(s[\"total\"])/len(s[\"total\"]) for s in times.values()]\n",
    "counted_scores = dict(Counter(times_vals))\n",
    "ctimes_vals, ctimes_count = zip(*counted_scores.items())\n",
    "plt.plot(ctimes_vals, ctimes_count, '.')\n",
    "plt.show()"
   ]
  },
  {
   "cell_type": "code",
   "execution_count": null,
   "metadata": {},
   "outputs": [],
   "source": [
    "plt.plot(times_vals, scores_vals, 'o')\n",
    "plt.show()"
   ]
  },
  {
   "cell_type": "code",
   "execution_count": null,
   "metadata": {},
   "outputs": [],
   "source": [
    "params_plot(avg_scores, avg_times, parameters, min_configs)"
   ]
  },
  {
   "cell_type": "markdown",
   "metadata": {},
   "source": [
    "### Obraz testowy 8"
   ]
  },
  {
   "cell_type": "code",
   "execution_count": null,
   "metadata": {},
   "outputs": [],
   "source": [
    "image = cv2.imread(\"./test_images/obraztestowy_8.png\")\n",
    "path_reference = cv2.imread(\"./test_images/obraztestowy_5_9_path.png\")\n",
    "selected_points = [(382,510), (381,496), (379,489), (373, 469), (373, 466), (368,454), (371, 425), (376, 356), (368, 292), (367, 221), (370, 209), (385, 198), (397, 186), (409, 166), (412, 156), (413, 116), (412, 110), (370, 130), (345, 144), (329, 121), (325, 110), (313, 97), (305, 91), (295, 75), (274, 62), (218, 45), (150, 78), (123, 129), (118, 181), (126, 201), (139, 239), (90, 289), (83, 348), (74, 391), (65, 510)]\n",
    "plt.imshow(image)"
   ]
  },
  {
   "cell_type": "code",
   "execution_count": null,
   "metadata": {},
   "outputs": [],
   "source": [
    "image_with_path, path_image, parameters, min_score, min_configs, scores, times = run_algo(image, path_reference, selected_points, iterations, \"test08\")"
   ]
  },
  {
   "cell_type": "code",
   "execution_count": null,
   "metadata": {},
   "outputs": [],
   "source": [
    "print(\"Min score:\", min_score)\n",
    "print(\"Min configs:\")\n",
    "for cfg in list(min_configs):\n",
    "    print(cfg)"
   ]
  },
  {
   "cell_type": "code",
   "execution_count": null,
   "metadata": {},
   "outputs": [],
   "source": [
    "avg_scores = {k: sum(v)/len(v) for k, v in scores.items()}\n",
    "avg_times =  {k: sum(v[\"total\"])/len(v[\"total\"]) for k, v in times.items()}"
   ]
  },
  {
   "cell_type": "code",
   "execution_count": null,
   "metadata": {},
   "outputs": [],
   "source": [
    "scores_vals = [sum(s)/len(s) for s in scores.values()]\n",
    "counted_scores = dict(Counter(scores_vals))\n",
    "cscores_vals, cscores_count = zip(*counted_scores.items())\n",
    "plt.plot(cscores_vals, cscores_count, '.')\n",
    "plt.show()"
   ]
  },
  {
   "cell_type": "code",
   "execution_count": null,
   "metadata": {},
   "outputs": [],
   "source": [
    "times_vals = [sum(s[\"total\"])/len(s[\"total\"]) for s in times.values()]\n",
    "counted_scores = dict(Counter(times_vals))\n",
    "ctimes_vals, ctimes_count = zip(*counted_scores.items())\n",
    "plt.plot(ctimes_vals, ctimes_count, '.')\n",
    "plt.show()"
   ]
  },
  {
   "cell_type": "code",
   "execution_count": null,
   "metadata": {},
   "outputs": [],
   "source": [
    "plt.plot(times_vals, scores_vals, 'o')\n",
    "plt.show()"
   ]
  },
  {
   "cell_type": "code",
   "execution_count": null,
   "metadata": {},
   "outputs": [],
   "source": [
    "params_plot(avg_scores, avg_times, parameters, min_configs)"
   ]
  },
  {
   "cell_type": "markdown",
   "metadata": {},
   "source": [
    "### Obraz testowy 9"
   ]
  },
  {
   "cell_type": "code",
   "execution_count": null,
   "metadata": {},
   "outputs": [],
   "source": [
    "image = cv2.imread(\"./test_images/obraztestowy_9.png\")\n",
    "path_reference = cv2.imread(\"./test_images/obraztestowy_5_9_path.png\")\n",
    "selected_points = [(382,510), (381,496), (379,489), (373, 469), (373, 466), (368,454), (371, 425), (376, 356), (368, 292), (367, 221), (370, 209), (385, 198), (397, 186), (409, 166), (412, 156), (413, 116), (412, 110), (370, 130), (345, 144), (329, 121), (325, 110), (313, 97), (305, 91), (295, 75), (274, 62), (218, 45), (150, 78), (123, 129), (118, 181), (126, 201), (139, 239), (90, 289), (83, 348), (74, 391), (65, 510)]\n",
    "plt.imshow(image)"
   ]
  },
  {
   "cell_type": "code",
   "execution_count": null,
   "metadata": {},
   "outputs": [],
   "source": [
    "image_with_path, path_image, parameters, min_score, min_configs, scores, times = run_algo(image, path_reference, selected_points, iterations, \"test09\")"
   ]
  },
  {
   "cell_type": "code",
   "execution_count": null,
   "metadata": {},
   "outputs": [],
   "source": [
    "print(\"Min score:\", min_score)\n",
    "print(\"Min configs:\")\n",
    "for cfg in list(min_configs):\n",
    "    print(cfg)"
   ]
  },
  {
   "cell_type": "code",
   "execution_count": null,
   "metadata": {},
   "outputs": [],
   "source": [
    "avg_scores = {k: sum(v)/len(v) for k, v in scores.items()}\n",
    "avg_times =  {k: sum(v[\"total\"])/len(v[\"total\"]) for k, v in times.items()}"
   ]
  },
  {
   "cell_type": "code",
   "execution_count": null,
   "metadata": {},
   "outputs": [],
   "source": [
    "scores_vals = [sum(s)/len(s) for s in scores.values()]\n",
    "counted_scores = dict(Counter(scores_vals))\n",
    "cscores_vals, cscores_count = zip(*counted_scores.items())\n",
    "plt.plot(cscores_vals, cscores_count, '.')\n",
    "plt.show()"
   ]
  },
  {
   "cell_type": "code",
   "execution_count": null,
   "metadata": {},
   "outputs": [],
   "source": [
    "times_vals = [sum(s[\"total\"])/len(s[\"total\"]) for s in times.values()]\n",
    "counted_scores = dict(Counter(times_vals))\n",
    "ctimes_vals, ctimes_count = zip(*counted_scores.items())\n",
    "plt.plot(ctimes_vals, ctimes_count, '.')\n",
    "plt.show()"
   ]
  },
  {
   "cell_type": "code",
   "execution_count": null,
   "metadata": {},
   "outputs": [],
   "source": [
    "plt.plot(times_vals, scores_vals, 'o')\n",
    "plt.show()"
   ]
  },
  {
   "cell_type": "code",
   "execution_count": null,
   "metadata": {},
   "outputs": [],
   "source": [
    "params_plot(avg_scores, avg_times, parameters, min_configs)"
   ]
  },
  {
   "cell_type": "markdown",
   "metadata": {},
   "source": [
    "### Obraz testowy 10"
   ]
  },
  {
   "cell_type": "code",
   "execution_count": null,
   "metadata": {},
   "outputs": [],
   "source": [
    "image = cv2.imread(\"./test_images/obraztestowy_10.png\")\n",
    "path_reference = cv2.imread(\"./test_images/obraztestowy_10_13_path.png\")\n",
    "selected_points = [(381, 509), (370, 462), (386, 381), (382, 318), (372, 247), (367, 211), (416, 112), (396, 110), (383, 120), (344, 144), (217, 45), (126, 115), (121, 136), (119, 185), (126, 204), (139, 238), (108, 262), (89, 279), (79, 382), (67, 509)]\n",
    "plt.imshow(image)"
   ]
  },
  {
   "cell_type": "code",
   "execution_count": null,
   "metadata": {},
   "outputs": [],
   "source": [
    "image_with_path, path_image, parameters, min_score, min_configs, scores, times = run_algo(image, path_reference, selected_points, iterations, \"test10\")"
   ]
  },
  {
   "cell_type": "code",
   "execution_count": null,
   "metadata": {},
   "outputs": [],
   "source": [
    "print(\"Min score:\", min_score)\n",
    "print(\"Min configs:\")\n",
    "for cfg in list(min_configs):\n",
    "    print(cfg)"
   ]
  },
  {
   "cell_type": "code",
   "execution_count": null,
   "metadata": {},
   "outputs": [],
   "source": [
    "avg_scores = {k: sum(v)/len(v) for k, v in scores.items()}\n",
    "avg_times =  {k: sum(v[\"total\"])/len(v[\"total\"]) for k, v in times.items()}"
   ]
  },
  {
   "cell_type": "code",
   "execution_count": null,
   "metadata": {},
   "outputs": [],
   "source": [
    "scores_vals = [sum(s)/len(s) for s in scores.values()]\n",
    "counted_scores = dict(Counter(scores_vals))\n",
    "cscores_vals, cscores_count = zip(*counted_scores.items())\n",
    "plt.plot(cscores_vals, cscores_count, '.')\n",
    "plt.show()"
   ]
  },
  {
   "cell_type": "code",
   "execution_count": null,
   "metadata": {},
   "outputs": [],
   "source": [
    "times_vals = [sum(s[\"total\"])/len(s[\"total\"]) for s in times.values()]\n",
    "counted_scores = dict(Counter(times_vals))\n",
    "ctimes_vals, ctimes_count = zip(*counted_scores.items())\n",
    "plt.plot(ctimes_vals, ctimes_count, '.')\n",
    "plt.show()"
   ]
  },
  {
   "cell_type": "code",
   "execution_count": null,
   "metadata": {},
   "outputs": [],
   "source": [
    "plt.plot(times_vals, scores_vals, 'o')\n",
    "plt.show()"
   ]
  },
  {
   "cell_type": "code",
   "execution_count": null,
   "metadata": {},
   "outputs": [],
   "source": [
    "params_plot(avg_scores, avg_times, parameters, min_configs)"
   ]
  },
  {
   "cell_type": "markdown",
   "metadata": {},
   "source": [
    "### Obraz testowy 11 (64)"
   ]
  },
  {
   "cell_type": "code",
   "execution_count": null,
   "metadata": {},
   "outputs": [],
   "source": [
    "image = cv2.imread(\"./test_images/obraztestowy_64.png\")\n",
    "path_reference = cv2.imread(\"./test_images/obraztestowy_64_path.png\")\n",
    "selected_points = [(48, 63), (47, 54), (47, 36), (46, 27), (51, 23), (51, 15), (51, 13), (47, 15), (44, 17), (43, 15), (39, 11), (35, 6), (28,5), (21, 7), (16, 14), (15, 19), (15, 24), (17, 30), (11, 35), (9, 43), (7, 52), (8, 63)]\n",
    "plt.imshow(image)"
   ]
  },
  {
   "cell_type": "code",
   "execution_count": null,
   "metadata": {},
   "outputs": [],
   "source": [
    "image_with_path, path_image, parameters, min_score, min_configs, scores, times = run_algo(image, path_reference, selected_points, iterations, \"test11\")"
   ]
  },
  {
   "cell_type": "code",
   "execution_count": null,
   "metadata": {},
   "outputs": [],
   "source": [
    "print(\"Min score:\", min_score)\n",
    "print(\"Min configs:\")\n",
    "for cfg in list(min_configs):\n",
    "    print(cfg)"
   ]
  },
  {
   "cell_type": "code",
   "execution_count": null,
   "metadata": {},
   "outputs": [],
   "source": [
    "avg_scores = {k: sum(v)/len(v) for k, v in scores.items()}\n",
    "avg_times =  {k: sum(v[\"total\"])/len(v[\"total\"]) for k, v in times.items()}"
   ]
  },
  {
   "cell_type": "code",
   "execution_count": null,
   "metadata": {},
   "outputs": [],
   "source": [
    "scores_vals = [sum(s)/len(s) for s in scores.values()]\n",
    "counted_scores = dict(Counter(scores_vals))\n",
    "cscores_vals, cscores_count = zip(*counted_scores.items())\n",
    "plt.plot(cscores_vals, cscores_count, '.')\n",
    "plt.show()"
   ]
  },
  {
   "cell_type": "code",
   "execution_count": null,
   "metadata": {},
   "outputs": [],
   "source": [
    "times_vals = [sum(s[\"total\"])/len(s[\"total\"]) for s in times.values()]\n",
    "counted_scores = dict(Counter(times_vals))\n",
    "ctimes_vals, ctimes_count = zip(*counted_scores.items())\n",
    "plt.plot(ctimes_vals, ctimes_count, '.')\n",
    "plt.show()"
   ]
  },
  {
   "cell_type": "code",
   "execution_count": null,
   "metadata": {},
   "outputs": [],
   "source": [
    "plt.plot(times_vals, scores_vals, 'o')\n",
    "plt.show()"
   ]
  },
  {
   "cell_type": "code",
   "execution_count": null,
   "metadata": {},
   "outputs": [],
   "source": [
    "params_plot(avg_scores, avg_times, parameters, min_configs)"
   ]
  },
  {
   "cell_type": "markdown",
   "metadata": {},
   "source": [
    "### Obraz testowy 12 (128)"
   ]
  },
  {
   "cell_type": "code",
   "execution_count": null,
   "metadata": {},
   "outputs": [],
   "source": [
    "image = cv2.imread(\"./test_images/obraztestowy_128.png\")\n",
    "path_reference = cv2.imread(\"./test_images/obraztestowy_128_path.png\")\n",
    "selected_points = [(96, 126), (92, 112), (97,98), (93,52), (104, 28), (98, 27), (93, 32), (86, 35), (75, 19), (41, 16), (30, 46), (31, 62), (21, 72), (16, 126)]\n",
    "plt.imshow(image)"
   ]
  },
  {
   "cell_type": "code",
   "execution_count": null,
   "metadata": {},
   "outputs": [],
   "source": [
    "image_with_path, path_image, parameters, min_score, min_configs, scores, times = run_algo(image, path_reference, selected_points, iterations, \"test12\")"
   ]
  },
  {
   "cell_type": "code",
   "execution_count": null,
   "metadata": {},
   "outputs": [],
   "source": [
    "print(\"Min score:\", min_score)\n",
    "print(\"Min configs:\")\n",
    "for cfg in list(min_configs):\n",
    "    print(cfg)"
   ]
  },
  {
   "cell_type": "code",
   "execution_count": null,
   "metadata": {},
   "outputs": [],
   "source": [
    "avg_scores = {k: sum(v)/len(v) for k, v in scores.items()}\n",
    "avg_times =  {k: sum(v[\"total\"])/len(v[\"total\"]) for k, v in times.items()}"
   ]
  },
  {
   "cell_type": "code",
   "execution_count": null,
   "metadata": {},
   "outputs": [],
   "source": [
    "scores_vals = [sum(s)/len(s) for s in scores.values()]\n",
    "counted_scores = dict(Counter(scores_vals))\n",
    "cscores_vals, cscores_count = zip(*counted_scores.items())\n",
    "plt.plot(cscores_vals, cscores_count, '.')\n",
    "plt.show()"
   ]
  },
  {
   "cell_type": "code",
   "execution_count": null,
   "metadata": {},
   "outputs": [],
   "source": [
    "times_vals = [sum(s[\"total\"])/len(s[\"total\"]) for s in times.values()]\n",
    "counted_scores = dict(Counter(times_vals))\n",
    "ctimes_vals, ctimes_count = zip(*counted_scores.items())\n",
    "plt.plot(ctimes_vals, ctimes_count, '.')\n",
    "plt.show()"
   ]
  },
  {
   "cell_type": "code",
   "execution_count": null,
   "metadata": {},
   "outputs": [],
   "source": [
    "plt.plot(times_vals, scores_vals, 'o')\n",
    "plt.show()"
   ]
  },
  {
   "cell_type": "code",
   "execution_count": null,
   "metadata": {},
   "outputs": [],
   "source": [
    "params_plot(avg_scores, avg_times, parameters, min_configs)"
   ]
  },
  {
   "cell_type": "markdown",
   "metadata": {},
   "source": [
    "### Obraz testowy 13 (1024)"
   ]
  },
  {
   "cell_type": "code",
   "execution_count": null,
   "metadata": {},
   "outputs": [],
   "source": [
    "image = cv2.imread(\"./test_images/obraztestowy_1024.png\")\n",
    "path_reference = cv2.imread(\"./test_images/obraztestowy_1024_path.png\")\n",
    "selected_points = [(766, 1021), (742, 927), (758, 845), (768, 743), (763,662), (744, 493), (729, 420), (829, 231), (787, 222), (757, 246), (702, 279), (691, 291), (424, 91), (257, 223), (276, 480), (231, 513), (182, 560), (143, 822), (126, 1022)]\n",
    "plt.imshow(image)"
   ]
  },
  {
   "cell_type": "code",
   "execution_count": null,
   "metadata": {},
   "outputs": [],
   "source": [
    "image_with_path, path_image, parameters, min_score, min_configs, scores, times = run_algo(image, path_reference, selected_points, iterations, \"test13\")"
   ]
  },
  {
   "cell_type": "code",
   "execution_count": null,
   "metadata": {},
   "outputs": [],
   "source": [
    "print(\"Min score:\", min_score)\n",
    "print(\"Min configs:\")\n",
    "for cfg in list(min_configs):\n",
    "    print(cfg)"
   ]
  },
  {
   "cell_type": "code",
   "execution_count": null,
   "metadata": {},
   "outputs": [],
   "source": [
    "avg_scores = {k: sum(v)/len(v) for k, v in scores.items()}\n",
    "avg_times =  {k: sum(v[\"total\"])/len(v[\"total\"]) for k, v in times.items()}"
   ]
  },
  {
   "cell_type": "code",
   "execution_count": null,
   "metadata": {},
   "outputs": [],
   "source": [
    "scores_vals = [sum(s)/len(s) for s in scores.values()]\n",
    "counted_scores = dict(Counter(scores_vals))\n",
    "cscores_vals, cscores_count = zip(*counted_scores.items())\n",
    "plt.plot(cscores_vals, cscores_count, '.')\n",
    "plt.show()"
   ]
  },
  {
   "cell_type": "code",
   "execution_count": null,
   "metadata": {},
   "outputs": [],
   "source": [
    "times_vals = [sum(s[\"total\"])/len(s[\"total\"]) for s in times.values()]\n",
    "counted_scores = dict(Counter(times_vals))\n",
    "ctimes_vals, ctimes_count = zip(*counted_scores.items())\n",
    "plt.plot(ctimes_vals, ctimes_count, '.')\n",
    "plt.show()"
   ]
  },
  {
   "cell_type": "code",
   "execution_count": null,
   "metadata": {},
   "outputs": [],
   "source": [
    "plt.plot(times_vals, scores_vals, 'o')\n",
    "plt.show()"
   ]
  },
  {
   "cell_type": "code",
   "execution_count": null,
   "metadata": {},
   "outputs": [],
   "source": [
    "params_plot(avg_scores, avg_times, parameters, min_configs)"
   ]
  }
 ],
 "metadata": {
  "interpreter": {
   "hash": "ac59ebe37160ed0dfa835113d9b8498d9f09ceb179beaac4002f036b9467c963"
  },
  "kernelspec": {
   "display_name": "Python 3.9.12 64-bit",
   "language": "python",
   "name": "python3"
  },
  "language_info": {
   "codemirror_mode": {
    "name": "ipython",
    "version": 3
   },
   "file_extension": ".py",
   "mimetype": "text/x-python",
   "name": "python",
   "nbconvert_exporter": "python",
   "pygments_lexer": "ipython3",
   "version": "3.9.12"
  },
  "orig_nbformat": 4
 },
 "nbformat": 4,
 "nbformat_minor": 2
}
